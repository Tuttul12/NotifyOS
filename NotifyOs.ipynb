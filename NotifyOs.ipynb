{
 "cells": [
  {
   "cell_type": "code",
   "execution_count": 1,
   "metadata": {},
   "outputs": [],
   "source": [
    "from imap_tools import MailBox, AND,OR, NOT\n",
    "import telebot\n",
    "import requests\n",
    "import time"
   ]
  },
  {
   "cell_type": "code",
   "execution_count": 10,
   "metadata": {},
   "outputs": [],
   "source": [
    "def bomdia(hour):\n",
    "    if hour >= 8 and hour < 12:\n",
    "        saud = \"Bom dia!\"\n",
    "    elif hour >= 12 and hour < 18:\n",
    "        saud = \"Boa Tarde!\"\n",
    "    else:\n",
    "        saud = \"Boa Noite!\"\n",
    "    return saud\n",
    "\n",
    "\n",
    "    \n",
    "hora = int(time.strftime('%H', time.localtime()))\n",
    "     \n",
    "if hora >= 8 or hora <= 22:\n",
    "    oi = bomdia(hora)\n",
    "        \n",
    "    username = \"noc@se77e.com.br\"\n",
    "    password = \"38O1rrz?\"\n",
    "\n",
    "\n",
    "    tok = \"2038213127:AAEHfqzx9H7zFA8BheGLqnCb-7jx_ixGB_U\"\n",
    "    i = \"-1001719488484\"\n",
    "    bot = telebot.TeleBot(tok)\n",
    "\n",
    "\n",
    "    meu_email = MailBox('plesk.se77e.com.br').login(username, password)\n",
    "\n",
    "    lista_emails= meu_email.fetch(AND(from_=\"info@settefibra.com.br\", seen=False))\n",
    "    for msg in lista_emails:\n",
    "\n",
    "        res = msg.html\n",
    "        res = res.replace('E-mail:','\\\\nE-mail:',1)\n",
    "        tex = f\"\"\"{oi} Recebemos uma nova OS no IXC. \\n Assunto:{msg.subject}\"\"\"\n",
    "\n",
    "        bot.send_message(i,tex)"
   ]
  },
  {
   "cell_type": "code",
   "execution_count": 44,
   "metadata": {},
   "outputs": [],
   "source": [
    "#pegar anexo\n",
    "\n",
    "#lista_emails = meu_email.fetch(AND(from_=\"plesk.se77e.com.br\"))\n",
    "#for email in lista_emails:\n",
    "#    if len(email.attachments) > 0:\n",
    "#        for anexo in email.attachments:\n",
    "#            if \"NomeAnexo\" in anexo.filename:\n",
    "#                informacoes_anexo = anexo.payload\n",
    "#                with open(\"CriarArquivo.xlsx\", \"wb\") as arquivo_excel:\n",
    "#                    arquivo_excel.write(informacoes_anexo)"
   ]
  }
 ],
 "metadata": {
  "kernelspec": {
   "display_name": "Python 3 (ipykernel)",
   "language": "python",
   "name": "python3"
  },
  "language_info": {
   "codemirror_mode": {
    "name": "ipython",
    "version": 3
   },
   "file_extension": ".py",
   "mimetype": "text/x-python",
   "name": "python",
   "nbconvert_exporter": "python",
   "pygments_lexer": "ipython3",
   "version": "3.10.5"
  },
  "vscode": {
   "interpreter": {
    "hash": "aee8b7b246df8f9039afb4144a1f6fd8d2ca17a180786b69acc140d282b71a49"
   }
  }
 },
 "nbformat": 4,
 "nbformat_minor": 2
}
