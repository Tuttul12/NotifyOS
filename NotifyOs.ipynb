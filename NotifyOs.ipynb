{
 "cells": [
  {
   "cell_type": "code",
   "execution_count": 1,
   "metadata": {},
   "outputs": [],
   "source": [
    "from imap_tools import MailBox, AND,OR, NOT\n",
    "import telebot\n",
    "import requests\n",
    "import time"
   ]
  },
  {
   "cell_type": "code",
   "execution_count": 2,
   "metadata": {},
   "outputs": [],
   "source": [
    "def bomdia(hour):\n",
    "    if hour >= 8 and hour < 12:\n",
    "        saud = \"Bom dia!\"\n",
    "    elif hour >= 12 and hour < 18:\n",
    "        saud = \"Boa Tarde!\"\n",
    "    else:\n",
    "        saud = \"Boa Noite!\"\n",
    "    return saud\n",
    "\n",
    "\n",
    "                \n",
    "hora = int(time.strftime('%H', time.localtime()))\n",
    "                \n",
    "if hora >= 8 or hora <= 22:\n",
    "    oi = bomdia(hora)\n",
    "                    \n",
    "    username = \"luiz.evangelista@se77e.com.br\"\n",
    "    password = \"77@A7net@#L\"\n",
    "\n",
    "\n",
    "    tok = \"5456848966:AAGlJ8AQxKe-CgHr9qW_U48p25a8g78ErXo\"\n",
    "    i = \"-751440787\"\n",
    "    bot = telebot.TeleBot(tok)\n",
    "\n",
    "\n",
    "    meu_email = MailBox('plesk.se77e.com.br').login(username, password)\n",
    "\n",
    "    lista_emails= meu_email.fetch(AND(from_=\"info@settefibra.com.br\", seen=False))\n",
    "    for msg in lista_emails:\n",
    "\n",
    "        res = msg.html\n",
    "        res = res.replace('E-mail:','\\\\nE-mail:',1)\n",
    "        tex = f\"\"\"{oi} Recebemos uma nova OS no IXC. \\n{msg.subject}\"\"\"\n",
    "\n",
    "        bot.send_message(i,tex)\n",
    "        time.sleep(60)"
   ]
  }
 ],
 "metadata": {
  "kernelspec": {
   "display_name": "Python 3 (ipykernel)",
   "language": "python",
   "name": "python3"
  },
  "language_info": {
   "codemirror_mode": {
    "name": "ipython",
    "version": 3
   },
   "file_extension": ".py",
   "mimetype": "text/x-python",
   "name": "python",
   "nbconvert_exporter": "python",
   "pygments_lexer": "ipython3",
   "version": "3.10.5"
  },
  "vscode": {
   "interpreter": {
    "hash": "1d28236198f75e1ba312442b1ae07830be738b6591e441b2c2898600661b55df"
   }
  }
 },
 "nbformat": 4,
 "nbformat_minor": 2
}
