{
 "cells": [
  {
   "cell_type": "code",
   "execution_count": 1,
   "metadata": {},
   "outputs": [],
   "source": [
    "from imap_tools import MailBox, AND,OR, NOT\n",
    "import telebot\n",
    "import requests\n",
    "import time"
   ]
  },
  {
   "cell_type": "code",
   "execution_count": 2,
   "metadata": {},
   "outputs": [],
   "source": [
    "#Função para identificar horário e dar a saudação\n",
    "def bomdia(hour):\n",
    "    if hour >= 8 and hour < 12:\n",
    "        saud = \"Bom dia!\"\n",
    "    elif hour >= 12 and hour < 18:\n",
    "        saud = \"Boa Tarde!\"\n",
    "    else:\n",
    "        saud = \"Boa Noite!\"\n",
    "    return saud\n",
    "\n",
    "\n",
    "                \n",
    "hora = int(time.strftime('%H', time.localtime()))\n",
    "#chama função e executa o processo                \n",
    "if hora >= 8 or hora <= 22:\n",
    "    oi = bomdia(hora)\n",
    "#Dados do E-mail                    \n",
    "    username = \"seu-email@e-mail.com.br\"\n",
    "    password = \"sua-senha\"\n",
    "\n",
    "#Dados do Bot\n",
    "    tok = \"token-do-bot\"\n",
    "    i = \"id-do-grupo\"\n",
    "    bot = telebot.TeleBot(tok)\n",
    "\n",
    "\n",
    "    meu_email = MailBox('imap.seu.e-mail').login(username, password)\n",
    "#Verifica os emails e faz o envio da mensagem pelo telegram\n",
    "    lista_emails= meu_email.fetch(AND(from_=\"remetente_que_será_lido_o_email@email.com\", seen=False))\n",
    "    for msg in lista_emails:\n",
    "\n",
    "        res = msg.html\n",
    "        res = res.replace('E-mail:','\\\\nE-mail:',1)\n",
    "        tex = f\"\"\"{oi} Recebemos uma nova OS no IXC. \\n{msg.subject}\"\"\"\n",
    "#Envio da mensagem\n",
    "        bot.send_message(i,tex)"
   ]
  }
 ],
 "metadata": {
  "kernelspec": {
   "display_name": "Python 3 (ipykernel)",
   "language": "python",
   "name": "python3"
  },
  "language_info": {
   "codemirror_mode": {
    "name": "ipython",
    "version": 3
   },
   "file_extension": ".py",
   "mimetype": "text/x-python",
   "name": "python",
   "nbconvert_exporter": "python",
   "pygments_lexer": "ipython3",
   "version": "3.10.6"
  },
  "vscode": {
   "interpreter": {
    "hash": "1d28236198f75e1ba312442b1ae07830be738b6591e441b2c2898600661b55df"
   }
  }
 },
 "nbformat": 4,
 "nbformat_minor": 2
}
