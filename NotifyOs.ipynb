{
 "cells": [
  {
   "cell_type": "code",
   "execution_count": 5,
   "metadata": {},
   "outputs": [],
   "source": [
    "from imap_tools import MailBox, AND,OR, NOT\n",
    "import telebot\n",
    "import requests\n",
    "import time"
   ]
  },
  {
   "cell_type": "code",
   "execution_count": 6,
   "metadata": {},
   "outputs": [],
   "source": [
    "def bomdia(hour):\n",
    "    if hour >= 8 and hour < 12:\n",
    "        saud = \"Bom dia!\"\n",
    "    elif hour >= 12 and hour < 18:\n",
    "        saud = \"Boa Tarde!\"\n",
    "    else:\n",
    "        saud = \"Boa Noite!\"\n",
    "    return saud\n",
    "\n",
    "\n",
    "                \n",
    "hora = int(time.strftime('%H', time.localtime()))\n",
    "                \n",
    "if hora >= 8 or hora <= 22:\n",
    "    oi = bomdia(hora)\n",
    "                    \n",
    "    username = \"luiz.evangelista@se77e.com.br\"\n",
    "    password = \"77@A7net@#L\"\n",
    "\n",
    "\n",
    "    tok = \"5456848966:AAGlJ8AQxKe-CgHr9qW_U48p25a8g78ErXo\"\n",
    "    i = \"-751440787\"\n",
    "    bot = telebot.TeleBot(tok)\n",
    "\n",
    "\n",
    "    meu_email = MailBox('plesk.se77e.com.br').login(username, password)\n",
    "\n",
    "    lista_emails= meu_email.fetch(AND(from_=\"info@settefibra.com.br\", seen=False))\n",
    "    for msg in lista_emails:\n",
    "\n",
    "        res = msg.html\n",
    "        res = res.replace('E-mail:','\\\\nE-mail:',1)\n",
    "        tex = f\"\"\"{oi} Recebemos uma nova OS no IXC. \\n Assunto:{msg.subject}\"\"\"\n",
    "\n",
    "        bot.send_message(i,tex)\n",
    "        time.sleep(60)"
   ]
  },
  {
   "cell_type": "code",
   "execution_count": 4,
   "metadata": {},
   "outputs": [
    {
     "name": "stdout",
     "output_type": "stream",
     "text": [
      "Collecting pyTelegramBotAPI\n",
      "  Downloading pyTelegramBotAPI-4.7.0.tar.gz (210 kB)\n",
      "     -------------------------------------- 210.7/210.7 kB 3.2 MB/s eta 0:00:00\n",
      "  Preparing metadata (setup.py): started\n",
      "  Preparing metadata (setup.py): finished with status 'done'\n",
      "Collecting requests\n",
      "  Downloading requests-2.28.1-py3-none-any.whl (62 kB)\n",
      "     ---------------------------------------- 62.8/62.8 kB ? eta 0:00:00\n",
      "Collecting urllib3<1.27,>=1.21.1\n",
      "  Downloading urllib3-1.26.12-py2.py3-none-any.whl (140 kB)\n",
      "     -------------------------------------- 140.4/140.4 kB 4.2 MB/s eta 0:00:00\n",
      "Collecting certifi>=2017.4.17\n",
      "  Downloading certifi-2022.6.15-py3-none-any.whl (160 kB)\n",
      "     -------------------------------------- 160.2/160.2 kB 3.2 MB/s eta 0:00:00\n",
      "Collecting idna<4,>=2.5\n",
      "  Downloading idna-3.3-py3-none-any.whl (61 kB)\n",
      "     ---------------------------------------- 61.2/61.2 kB 3.2 MB/s eta 0:00:00\n",
      "Collecting charset-normalizer<3,>=2\n",
      "  Downloading charset_normalizer-2.1.1-py3-none-any.whl (39 kB)\n",
      "Using legacy 'setup.py install' for pyTelegramBotAPI, since package 'wheel' is not installed.\n",
      "Installing collected packages: urllib3, idna, charset-normalizer, certifi, requests, pyTelegramBotAPI\n",
      "  Running setup.py install for pyTelegramBotAPI: started\n",
      "  Running setup.py install for pyTelegramBotAPI: finished with status 'done'\n",
      "Successfully installed certifi-2022.6.15 charset-normalizer-2.1.1 idna-3.3 pyTelegramBotAPI-4.7.0 requests-2.28.1 urllib3-1.26.12\n",
      "Note: you may need to restart the kernel to use updated packages.\n"
     ]
    },
    {
     "name": "stderr",
     "output_type": "stream",
     "text": [
      "\n",
      "[notice] A new release of pip available: 22.2.1 -> 22.2.2\n",
      "[notice] To update, run: python.exe -m pip install --upgrade pip\n"
     ]
    }
   ],
   "source": [
    "pip install pyTelegramBotAPI"
   ]
  }
 ],
 "metadata": {
  "kernelspec": {
   "display_name": "Python 3.10.6 64-bit",
   "language": "python",
   "name": "python3"
  },
  "language_info": {
   "codemirror_mode": {
    "name": "ipython",
    "version": 3
   },
   "file_extension": ".py",
   "mimetype": "text/x-python",
   "name": "python",
   "nbconvert_exporter": "python",
   "pygments_lexer": "ipython3",
   "version": "3.10.6"
  },
  "vscode": {
   "interpreter": {
    "hash": "1d28236198f75e1ba312442b1ae07830be738b6591e441b2c2898600661b55df"
   }
  }
 },
 "nbformat": 4,
 "nbformat_minor": 2
}
