{
 "cells": [
  {
   "cell_type": "code",
   "execution_count": 42,
   "metadata": {},
   "outputs": [],
   "source": [
    "from imap_tools import MailBox, AND,OR\n",
    "import telebot\n",
    "import requests\n",
    "\n",
    "chave_api = \"5456848966:AAGlJ8AQxKe-CgHr9qW_U48p25a8g78ErXo\"\n",
    "bot = telebot.TeleBot(chave_api)\n",
    "chat_id = \"-751440787\"\n",
    "msg = \"Chegou nova OS no IXC!\"\n",
    "\n",
    "# pegar emails de um remetente para um destinatário\n",
    "\n",
    "username = \"luiz.evangelista@se77e.com.br\"\n",
    "password = \"77@A7net@#L\"\n",
    "bot = telebot.TeleBot(chave_api)\n",
    "\n",
    "# lista de imaps: https://www.systoolsgroup.com/imap/\n",
    "meu_email = MailBox('plesk.se77e.com.br').login(username, password)"
   ]
  },
  {
   "cell_type": "code",
   "execution_count": 43,
   "metadata": {},
   "outputs": [
    {
     "name": "stdout",
     "output_type": "stream",
     "text": [
      "Ordem de Serviço['138998']\n",
      "Ordem de Serviço['139003']\n"
     ]
    }
   ],
   "source": [
    "#pegar email de remetente específico\n",
    "\n",
    "lista_emails= meu_email.fetch(AND(from_=\"info@settefibra.com.br\", seen=False))\n",
    "for email in lista_emails:\n",
    "    mail = email.subject\n",
    "    print(mail)"
   ]
  },
  {
   "cell_type": "code",
   "execution_count": 44,
   "metadata": {},
   "outputs": [],
   "source": [
    "#pegar anexo\n",
    "\n",
    "#lista_emails = meu_email.fetch(AND(from_=\"plesk.se77e.com.br\"))\n",
    "#for email in lista_emails:\n",
    "#    if len(email.attachments) > 0:\n",
    "#        for anexo in email.attachments:\n",
    "#            if \"NomeAnexo\" in anexo.filename:\n",
    "#                informacoes_anexo = anexo.payload\n",
    "#                with open(\"CriarArquivo.xlsx\", \"wb\") as arquivo_excel:\n",
    "#                    arquivo_excel.write(informacoes_anexo)"
   ]
  },
  {
   "cell_type": "code",
   "execution_count": 45,
   "metadata": {},
   "outputs": [
    {
     "ename": "NameError",
     "evalue": "name 'url' is not defined",
     "output_type": "error",
     "traceback": [
      "\u001b[0;31m---------------------------------------------------------------------------\u001b[0m",
      "\u001b[0;31mNameError\u001b[0m                                 Traceback (most recent call last)",
      "\u001b[1;32m/Users/luiiztuttu/Documents/Documentos - MacBook Pro de Luiiz/GitHub/NotifyOS/Untitled-1.ipynb Célula: 4\u001b[0m in \u001b[0;36m<cell line: 5>\u001b[0;34m()\u001b[0m\n\u001b[1;32m      <a href='vscode-notebook-cell:/Users/luiiztuttu/Documents/Documentos%20-%20MacBook%20Pro%20de%20Luiiz/GitHub/NotifyOS/Untitled-1.ipynb#W3sZmlsZQ%3D%3D?line=0'>1</a>\u001b[0m \u001b[39mdef\u001b[39;00m \u001b[39msend_message\u001b[39m(chat_id, chave_api, message):\n\u001b[1;32m      <a href='vscode-notebook-cell:/Users/luiiztuttu/Documents/Documentos%20-%20MacBook%20Pro%20de%20Luiiz/GitHub/NotifyOS/Untitled-1.ipynb#W3sZmlsZQ%3D%3D?line=1'>2</a>\u001b[0m         url \u001b[39m=\u001b[39m \u001b[39m\"\u001b[39m\u001b[39mhttps://api.telegram.org/bot\u001b[39m\u001b[39m\"\u001b[39m\u001b[39m+\u001b[39mchave_api\u001b[39m+\u001b[39m\u001b[39m\"\u001b[39m\u001b[39m/sendMessage?chat_id=\u001b[39m\u001b[39m\"\u001b[39m\u001b[39m+\u001b[39mchat_id\u001b[39m+\u001b[39m\u001b[39m\"\u001b[39m\u001b[39m&text=\u001b[39m\u001b[39m\"\u001b[39m\u001b[39m+\u001b[39mmsg, mail\n\u001b[0;32m----> <a href='vscode-notebook-cell:/Users/luiiztuttu/Documents/Documentos%20-%20MacBook%20Pro%20de%20Luiiz/GitHub/NotifyOS/Untitled-1.ipynb#W3sZmlsZQ%3D%3D?line=4'>5</a>\u001b[0m envio \u001b[39m=\u001b[39m requests\u001b[39m.\u001b[39mget(url)\n",
      "\u001b[0;31mNameError\u001b[0m: name 'url' is not defined"
     ]
    }
   ],
   "source": [
    "def send_message(chat_id, chave_api, message):\n",
    "        url = \"https://api.telegram.org/bot\"+chave_api+\"/sendMessage?chat_id=\"+chat_id+\"&text=\"+msg, mail\n",
    "\n",
    "\n",
    "envio = requests.get(url)"
   ]
  },
  {
   "cell_type": "code",
   "execution_count": null,
   "metadata": {},
   "outputs": [],
   "source": []
  }
 ],
 "metadata": {
  "kernelspec": {
   "display_name": "Python 3.10.5 64-bit",
   "language": "python",
   "name": "python3"
  },
  "language_info": {
   "codemirror_mode": {
    "name": "ipython",
    "version": 3
   },
   "file_extension": ".py",
   "mimetype": "text/x-python",
   "name": "python",
   "nbconvert_exporter": "python",
   "pygments_lexer": "ipython3",
   "version": "3.10.5"
  },
  "orig_nbformat": 4,
  "vscode": {
   "interpreter": {
    "hash": "aee8b7b246df8f9039afb4144a1f6fd8d2ca17a180786b69acc140d282b71a49"
   }
  }
 },
 "nbformat": 4,
 "nbformat_minor": 2
}
