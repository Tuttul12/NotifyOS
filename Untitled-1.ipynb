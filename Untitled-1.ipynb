{
 "cells": [
  {
   "cell_type": "code",
   "execution_count": 33,
   "metadata": {},
   "outputs": [],
   "source": [
    "from imap_tools import MailBox, AND,OR\n",
    "\n",
    "chave_api = \"5689097447:AAH3PzgrCMxWMrKBlaey8y9YhKLTbFyUKNk\"\n",
    "bot = telebot.TeleBot(chave_api)\n",
    "\n",
    "bot.polling()\n",
    "# pegar emails de um remetente para um destinatário\n",
    "\n",
    "username = \"noc@se77e.com.br\"\n",
    "password = \"38O1rrz?\"\n",
    "bot = telebot.TeleBot(chave_api)\n",
    "\n",
    "# lista de imaps: https://www.systoolsgroup.com/imap/\n",
    "meu_email = MailBox('plesk.se77e.com.br').login(username, password)"
   ]
  },
  {
   "cell_type": "code",
   "execution_count": 30,
   "metadata": {},
   "outputs": [],
   "source": [
    "#pegar email de remetente específico\n",
    "\n",
    "lista_emails= meu_email.fetch(AND(from_=\"plesk.se77e.com.br\", seen=False))\n",
    "for email in lista_emails:\n",
    "    print(email.subject)"
   ]
  },
  {
   "cell_type": "code",
   "execution_count": null,
   "metadata": {},
   "outputs": [],
   "source": [
    "#pegar anexo\n",
    "\n",
    "lista_emails = meu_email.fetch(AND(from_=\"plesk.se77e.com.br\"))\n",
    "for email in lista_emails:\n",
    "    if len(email.attachments) > 0:\n",
    "        for anexo in email.attachments:\n",
    "            if \"NomeAnexo\" in anexo.filename:\n",
    "                informacoes_anexo = anexo.payload\n",
    "                with open(\"CriarArquivo.xlsx\", \"wb\") as arquivo_excel:\n",
    "                    arquivo_excel.write(informacoes_anexo)"
   ]
  },
  {
   "cell_type": "code",
   "execution_count": null,
   "metadata": {},
   "outputs": [],
   "source": []
  }
 ],
 "metadata": {
  "kernelspec": {
   "display_name": "Python 3.10.5 64-bit",
   "language": "python",
   "name": "python3"
  },
  "language_info": {
   "codemirror_mode": {
    "name": "ipython",
    "version": 3
   },
   "file_extension": ".py",
   "mimetype": "text/x-python",
   "name": "python",
   "nbconvert_exporter": "python",
   "pygments_lexer": "ipython3",
   "version": "3.10.5"
  },
  "orig_nbformat": 4,
  "vscode": {
   "interpreter": {
    "hash": "aee8b7b246df8f9039afb4144a1f6fd8d2ca17a180786b69acc140d282b71a49"
   }
  }
 },
 "nbformat": 4,
 "nbformat_minor": 2
}
